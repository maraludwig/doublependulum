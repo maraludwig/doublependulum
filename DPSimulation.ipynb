{
 "cells": [
  {
   "cell_type": "code",
   "execution_count": 47,
   "metadata": {},
   "outputs": [],
   "source": [
    "import matplotlib.pyplot as plt\n",
    "import sys\n",
    "from math import sin, cos, pi\n",
    "import numpy as np\n",
    "from numpy.linalg import inv\n",
    "\n",
    "def G(y, t, m1, l1, m2, l2): \n",
    "\n",
    "\t# geschwindigkeiten\n",
    "\ta1d, a2d = y[0], y[1]\n",
    "\n",
    "\t# positionen\n",
    "\ta1, a2 = y[2], y[3]\n",
    "\n",
    "\tm11, m12 = (m1+m2)*l1, m2*l2*cos(a1-a2)\n",
    "\tm21, m22 = l1*cos(a1-a2), l2\n",
    "\tm = np.array([[m11, m12],[m21, m22]])\n",
    "\n",
    "\tf1 = -m2*l2*a2d*a2d*sin(a1-a2) - (m1+m2)*g*sin(a1)\n",
    "\tf2 = l1*a1d*a1d*sin(a1-a2) - g*sin(a2)\n",
    "\tf = np.array([f1, f2])\n",
    "\n",
    "\taccel = inv(m).dot(f)\n",
    "\n",
    "\treturn np.array([accel[0], accel[1], a1d, a2d])\n",
    "\n",
    "def RK4_step(y, t, dt, m1, l1, m2, l2):\n",
    "\n",
    "\tk1 = G(y,t, m1, l1, m2, l2) # len(m) x 4\n",
    "\tk2 = G(y+0.5*k1*dt, t+0.5*dt, m1, l1, m2, l2)\n",
    "\tk3 = G(y+0.5*k2*dt, t+0.5*dt, m1, l1, m2, l2)\n",
    "\tk4 = G(y+k3*dt, t+dt, m1, l1, m2, l2)\n",
    "\n",
    "\treturn dt * (k1 + 2*k2 + 2*k3 + k4) /6\n",
    "\n",
    "def update(a1, a2, l1, l2):\n",
    "\tscale = 100\n",
    "\tx1 = l1*scale * sin(a1) #+ offset[0]\n",
    "\ty1 = l1*scale * cos(a1) #+ offset[1]\n",
    "\tx2 = x1 + l2*scale * sin(a2)\n",
    "\ty2 = y1 + l2*scale * cos(a2)\n",
    "\n",
    "\treturn (x1, y1), (x2, y2)\n",
    "\n",
    "# parameters\n",
    "\n",
    "#massen\n",
    "#m1_values = np.arange(1,10,1)\n",
    "#m2 = 1.0\n",
    "\n",
    "#längen\n",
    "#l1_values = np.arange(1,10,1)\n",
    "#l1 = 1.0\n",
    "#l2 = 1.0\n",
    "\n",
    "#anfangswinkel\n",
    "#a1, a2 = pi/4, -1.0\n",
    "a1, a2 = 0.0, 0.0\n",
    "g = 9.81\n",
    "\n",
    "#prev_point = None\n",
    "t = 0.0\n",
    "delta_t = 0.02"
   ]
  },
  {
   "cell_type": "code",
   "execution_count": 49,
   "metadata": {},
   "outputs": [],
   "source": [
    "m1 = np.arange(1,2,0.1)\n",
    "m2 = np.arange(1,2,0.1)\n",
    "l1 = np.arange(1,2,0.1)\n",
    "l2 = np.arange(1,2,0.1)\n",
    "\n",
    "def time_evolution(t_stop,m1, l1, m2, l2, v1, v2):\n",
    "\n",
    "    y = np.array([v1, v2, 0.0, 0.0])\n",
    "\n",
    "    t=0\n",
    "\n",
    "    t_simulation = np.array([])\n",
    "    y_simulation = np.array([])\n",
    "\n",
    "    while t<t_stop:\n",
    "\n",
    "        t_simulation = np.append(t_simulation,t)\n",
    "        y_simulation = np.append(y_simulation,y)\n",
    "\n",
    "        t += delta_t\n",
    "        y = y + RK4_step(y,t,delta_t,m1,l1,m2,l2)\n",
    "\n",
    "    y_simulation = y_simulation.reshape(len(t_simulation),4)\n",
    "\n",
    "    return y_simulation, t_simulation\n",
    "\n",
    "\n",
    "y_simulation = time_evolution(5,m1[0],l1[0],m2[0],l2[0],1,1)[0]\n",
    "\n",
    "t_simulation = np.arange(0,5+delta_t,delta_t)\n"
   ]
  },
  {
   "cell_type": "code",
   "execution_count": 56,
   "metadata": {},
   "outputs": [
    {
     "name": "stdout",
     "output_type": "stream",
     "text": [
      "1.0\n",
      "1.0\n"
     ]
    }
   ],
   "source": [
    "print(l1[0])\n",
    "print(l2[0])"
   ]
  },
  {
   "cell_type": "code",
   "execution_count": 50,
   "metadata": {},
   "outputs": [],
   "source": [
    "#winkel masse 1\n",
    "winkel1 = y_simulation.reshape(len(t_simulation),4)[:,2] \n",
    "\n",
    "#winkel masse 2\n",
    "winkel2 = y_simulation.reshape(len(t_simulation),4)[:,3]"
   ]
  },
  {
   "cell_type": "code",
   "execution_count": 53,
   "metadata": {},
   "outputs": [
    {
     "data": {
      "text/plain": [
       "(np.float64(0.0), np.float64(2.0))"
      ]
     },
     "execution_count": 53,
     "metadata": {},
     "output_type": "execute_result"
    }
   ],
   "source": [
    "def update(a1, a2, l1, l2):\n",
    "\n",
    "\tx1 = l1* sin(a1)\n",
    "\ty1 = l1 * cos(a1)\n",
    "\tx2 = x1 + l2 * sin(a2)\n",
    "\ty2 = y1 + l2 * cos(a2)\n",
    "\n",
    "\treturn (x1, y1), (x2, y2)\n",
    "\n",
    "\n",
    "positions = [update(winkel1[i],winkel2[i],l1[0],l2[0]) for i in range(len(t_simulation))]\n",
    "\n",
    "positions[0][1]"
   ]
  },
  {
   "cell_type": "code",
   "execution_count": 54,
   "metadata": {},
   "outputs": [
    {
     "data": {
      "image/png": "[encoded data removed]",
      "text/plain": [
       "<Figure size 640x480 with 1 Axes>"
      ]
     },
     "metadata": {},
     "output_type": "display_data"
    }
   ],
   "source": [
    "x_positions_masse1 = [positions[i][0][0] for i in range(len(t_simulation))]\n",
    "y_positions_masse1 = [positions[i][0][1] for i in range(len(t_simulation))]\n",
    "\n",
    "x_positions_masse2 = [positions[i][1][0] for i in range(len(t_simulation))]\n",
    "y_positions_masse2 = [positions[i][1][1] for i in range(len(t_simulation))]\n",
    "\n",
    "plt.scatter(x_positions_masse1,y_positions_masse1,s=0.3)\n",
    "plt.scatter(x_positions_masse2,y_positions_masse2, s=0.3)\n",
    "\n",
    "plt.xlabel('x')\n",
    "plt.ylabel('y')\n",
    "\n",
    "plt.gca().invert_yaxis()  # Y-Achse umdrehen"
   ]
  },
  {
   "cell_type": "code",
   "execution_count": 6,
   "metadata": {},
   "outputs": [],
   "source": [
    "#sample masses and lengths from a gaussian distribution\n",
    "\n",
    "# mean 1\n",
    "# standarddeviation\n",
    "\n",
    "# Anzahl der Samples\n",
    "num_samples = 100000\n",
    "\n",
    "# gauss distributed values of log(m2/m1)\n",
    "log_mass_ratio = np.random.normal(loc=0, scale=1, size=num_samples)\n",
    "log_length_ratio = np.random.normal(loc=0, scale=1, size=num_samples)\n",
    "\n",
    "mass_ratios= np.exp(log_mass_ratio)\n",
    "length_ratios = np.exp(log_length_ratio)\n",
    "\n",
    "m1_values = np.exp(-log_mass_ratio)\n",
    "l1_values = np.exp(-log_length_ratio)\n",
    "\n",
    "#m1_values"
   ]
  },
  {
   "cell_type": "code",
   "execution_count": null,
   "metadata": {},
   "outputs": [
    {
     "data": {
      "image/png": "[encoded data removed]",
      "text/plain": [
       "<Figure size 640x480 with 1 Axes>"
      ]
     },
     "metadata": {},
     "output_type": "display_data"
    }
   ],
   "source": [
    "'''\n",
    "bins = np.logspace(np.log10(mass_ratios.min()), np.log10(mass_ratios.max()), 100)\n",
    "\n",
    "plt.hist(np.exp(log_mass_ratio), bins=bins, density=True, alpha=0.5, color='b')\n",
    "plt.xscale('log')\n",
    "#plt.xlim(0.3,1.5)\n",
    "\n",
    "#mach eine achsenbeschreibung\n",
    "'''"
   ]
  },
  {
   "cell_type": "code",
   "execution_count": null,
   "metadata": {},
   "outputs": [
    {
     "name": "stdout",
     "output_type": "stream",
     "text": [
      "N_m 100000\n",
      "N_l 100000\n"
     ]
    },
    {
     "ename": "KeyboardInterrupt",
     "evalue": "",
     "output_type": "error",
     "traceback": [
      "\u001b[0;31m---------------------------------------------------------------------------\u001b[0m",
      "\u001b[0;31mKeyboardInterrupt\u001b[0m                         Traceback (most recent call last)",
      "Cell \u001b[0;32mIn[8], line 6\u001b[0m\n\u001b[1;32m      3\u001b[0m \u001b[38;5;66;03m#l1_values = np.arange(1,10,1)\u001b[39;00m\n\u001b[1;32m      4\u001b[0m \u001b[38;5;28mprint\u001b[39m(\u001b[38;5;124m'\u001b[39m\u001b[38;5;124mN_l\u001b[39m\u001b[38;5;124m'\u001b[39m, \u001b[38;5;28mlen\u001b[39m(l1_values))\n\u001b[0;32m----> 6\u001b[0m array \u001b[38;5;241m=\u001b[39m \u001b[43m[\u001b[49m\u001b[43m[\u001b[49m\u001b[43mtime_evolution\u001b[49m\u001b[43m(\u001b[49m\u001b[38;5;241;43m0.1\u001b[39;49m\u001b[43m,\u001b[49m\u001b[43mm1\u001b[49m\u001b[43m,\u001b[49m\u001b[43ml1\u001b[49m\u001b[43m)\u001b[49m\u001b[43m \u001b[49m\u001b[38;5;28;43;01mfor\u001b[39;49;00m\u001b[43m \u001b[49m\u001b[43mm1\u001b[49m\u001b[43m \u001b[49m\u001b[38;5;129;43;01min\u001b[39;49;00m\u001b[43m \u001b[49m\u001b[43mm1_values\u001b[49m\u001b[43m]\u001b[49m\u001b[43m \u001b[49m\u001b[38;5;28;43;01mfor\u001b[39;49;00m\u001b[43m \u001b[49m\u001b[43ml1\u001b[49m\u001b[43m \u001b[49m\u001b[38;5;129;43;01min\u001b[39;49;00m\u001b[43m \u001b[49m\u001b[43ml1_values\u001b[49m\u001b[43m]\u001b[49m\n\u001b[1;32m      9\u001b[0m \u001b[38;5;28mprint\u001b[39m(\u001b[38;5;28mlen\u001b[39m(array)) \u001b[38;5;66;03m# len(array) = len(m1)\u001b[39;00m\n\u001b[1;32m     10\u001b[0m \u001b[38;5;28mprint\u001b[39m(\u001b[38;5;28mlen\u001b[39m(array[\u001b[38;5;241m0\u001b[39m]))\n",
      "Cell \u001b[0;32mIn[8], line 6\u001b[0m, in \u001b[0;36m<listcomp>\u001b[0;34m(.0)\u001b[0m\n\u001b[1;32m      3\u001b[0m \u001b[38;5;66;03m#l1_values = np.arange(1,10,1)\u001b[39;00m\n\u001b[1;32m      4\u001b[0m \u001b[38;5;28mprint\u001b[39m(\u001b[38;5;124m'\u001b[39m\u001b[38;5;124mN_l\u001b[39m\u001b[38;5;124m'\u001b[39m, \u001b[38;5;28mlen\u001b[39m(l1_values))\n\u001b[0;32m----> 6\u001b[0m array \u001b[38;5;241m=\u001b[39m [\u001b[43m[\u001b[49m\u001b[43mtime_evolution\u001b[49m\u001b[43m(\u001b[49m\u001b[38;5;241;43m0.1\u001b[39;49m\u001b[43m,\u001b[49m\u001b[43mm1\u001b[49m\u001b[43m,\u001b[49m\u001b[43ml1\u001b[49m\u001b[43m)\u001b[49m\u001b[43m \u001b[49m\u001b[38;5;28;43;01mfor\u001b[39;49;00m\u001b[43m \u001b[49m\u001b[43mm1\u001b[49m\u001b[43m \u001b[49m\u001b[38;5;129;43;01min\u001b[39;49;00m\u001b[43m \u001b[49m\u001b[43mm1_values\u001b[49m\u001b[43m]\u001b[49m \u001b[38;5;28;01mfor\u001b[39;00m l1 \u001b[38;5;129;01min\u001b[39;00m l1_values]\n\u001b[1;32m      9\u001b[0m \u001b[38;5;28mprint\u001b[39m(\u001b[38;5;28mlen\u001b[39m(array)) \u001b[38;5;66;03m# len(array) = len(m1)\u001b[39;00m\n\u001b[1;32m     10\u001b[0m \u001b[38;5;28mprint\u001b[39m(\u001b[38;5;28mlen\u001b[39m(array[\u001b[38;5;241m0\u001b[39m]))\n",
      "Cell \u001b[0;32mIn[8], line 6\u001b[0m, in \u001b[0;36m<listcomp>\u001b[0;34m(.0)\u001b[0m\n\u001b[1;32m      3\u001b[0m \u001b[38;5;66;03m#l1_values = np.arange(1,10,1)\u001b[39;00m\n\u001b[1;32m      4\u001b[0m \u001b[38;5;28mprint\u001b[39m(\u001b[38;5;124m'\u001b[39m\u001b[38;5;124mN_l\u001b[39m\u001b[38;5;124m'\u001b[39m, \u001b[38;5;28mlen\u001b[39m(l1_values))\n\u001b[0;32m----> 6\u001b[0m array \u001b[38;5;241m=\u001b[39m [[\u001b[43mtime_evolution\u001b[49m\u001b[43m(\u001b[49m\u001b[38;5;241;43m0.1\u001b[39;49m\u001b[43m,\u001b[49m\u001b[43mm1\u001b[49m\u001b[43m,\u001b[49m\u001b[43ml1\u001b[49m\u001b[43m)\u001b[49m \u001b[38;5;28;01mfor\u001b[39;00m m1 \u001b[38;5;129;01min\u001b[39;00m m1_values] \u001b[38;5;28;01mfor\u001b[39;00m l1 \u001b[38;5;129;01min\u001b[39;00m l1_values]\n\u001b[1;32m      9\u001b[0m \u001b[38;5;28mprint\u001b[39m(\u001b[38;5;28mlen\u001b[39m(array)) \u001b[38;5;66;03m# len(array) = len(m1)\u001b[39;00m\n\u001b[1;32m     10\u001b[0m \u001b[38;5;28mprint\u001b[39m(\u001b[38;5;28mlen\u001b[39m(array[\u001b[38;5;241m0\u001b[39m]))\n",
      "Cell \u001b[0;32mIn[2], line 12\u001b[0m, in \u001b[0;36mtime_evolution\u001b[0;34m(t_stop, m1, l1)\u001b[0m\n\u001b[1;32m      8\u001b[0m y_simulation \u001b[38;5;241m=\u001b[39m np\u001b[38;5;241m.\u001b[39marray([])\n\u001b[1;32m     10\u001b[0m \u001b[38;5;28;01mwhile\u001b[39;00m t\u001b[38;5;241m<\u001b[39mt_stop:\n\u001b[0;32m---> 12\u001b[0m     t_simulation \u001b[38;5;241m=\u001b[39m \u001b[43mnp\u001b[49m\u001b[38;5;241;43m.\u001b[39;49m\u001b[43mappend\u001b[49m\u001b[43m(\u001b[49m\u001b[43mt_simulation\u001b[49m\u001b[43m,\u001b[49m\u001b[43mt\u001b[49m\u001b[43m)\u001b[49m\n\u001b[1;32m     13\u001b[0m     y_simulation \u001b[38;5;241m=\u001b[39m np\u001b[38;5;241m.\u001b[39mappend(y_simulation,y)\n\u001b[1;32m     15\u001b[0m     t \u001b[38;5;241m+\u001b[39m\u001b[38;5;241m=\u001b[39m delta_t\n",
      "File \u001b[0;32m~/Documents/Master/Deep Learning/project/.venv/lib/python3.11/site-packages/numpy/lib/function_base.py:5618\u001b[0m, in \u001b[0;36mappend\u001b[0;34m(arr, values, axis)\u001b[0m\n\u001b[1;32m   5616\u001b[0m     values \u001b[38;5;241m=\u001b[39m ravel(values)\n\u001b[1;32m   5617\u001b[0m     axis \u001b[38;5;241m=\u001b[39m arr\u001b[38;5;241m.\u001b[39mndim\u001b[38;5;241m-\u001b[39m\u001b[38;5;241m1\u001b[39m\n\u001b[0;32m-> 5618\u001b[0m \u001b[38;5;28;01mreturn\u001b[39;00m \u001b[43mconcatenate\u001b[49m\u001b[43m(\u001b[49m\u001b[43m(\u001b[49m\u001b[43marr\u001b[49m\u001b[43m,\u001b[49m\u001b[43m \u001b[49m\u001b[43mvalues\u001b[49m\u001b[43m)\u001b[49m\u001b[43m,\u001b[49m\u001b[43m \u001b[49m\u001b[43maxis\u001b[49m\u001b[38;5;241;43m=\u001b[39;49m\u001b[43maxis\u001b[49m\u001b[43m)\u001b[49m\n",
      "\u001b[0;31mKeyboardInterrupt\u001b[0m: "
     ]
    }
   ],
   "source": [
    "'''\n",
    "#m1_values = np.arange(1,10,0.1)\n",
    "print('N_m', len(m1_values))\n",
    "#l1_values = np.arange(1,10,1)\n",
    "print('N_l', len(l1_values))\n",
    "\n",
    "array = [[time_evolution(0.1,m1,l1) for m1 in m1_values] for l1 in l1_values]\n",
    "\n",
    "\n",
    "print(len(array)) # len(array) = len(m1)\n",
    "print(len(array[0]))\n",
    "print(len(array[0][0]))\n",
    "print(len(array[0][0][0]))\n",
    "\n",
    "#array hat die dimension len(m) x len(l) x len(time) x 4\n",
    "'''"
   ]
  },
  {
   "cell_type": "code",
   "execution_count": 8,
   "metadata": {},
   "outputs": [],
   "source": [
    "import pandas as pd"
   ]
  },
  {
   "cell_type": "code",
   "execution_count": null,
   "metadata": {},
   "outputs": [],
   "source": [
    "def trajectory_images(m1_v,l1_v, m2_v, l2_v, e_v, v1_v, v2_v, labels_csv,t_stop,bildspeichern=True):\n",
    "        \n",
    "        labels = []\n",
    "    \n",
    "        for i in range(len(m1_v)):\n",
    "            \n",
    "            m1 = m1_v[i]\n",
    "            l1 = l1_v[i]\n",
    "            m2 = m2_v[i]\n",
    "            l2 = l2_v[i]\n",
    "            e = e_v[i]\n",
    "            v1 = v1_v[i]\n",
    "            v2 = v2_v[i]\n",
    "\n",
    "\n",
    "            y_simulation = time_evolution(t_stop,m1,l1,m2,l2, v1, v2)[0]\n",
    "            t_simulation = time_evolution(t_stop,m1,l1,m2,l2, v1, v2)[1]\n",
    "\n",
    "            #winkel masse 1\n",
    "            winkel1 = y_simulation.reshape(len(t_simulation),4)[:,2] \n",
    "\n",
    "            #winkel masse 2\n",
    "            winkel2 = y_simulation.reshape(len(t_simulation),4)[:,3]\n",
    "\n",
    "            #print(l2)\n",
    "\n",
    "            positions = [update(winkel1[j],winkel2[j],l1,l2) for j in range(len(t_simulation))]\n",
    "\n",
    "            x_positions_masse1 = [positions[j][0][0] for j in range(len(t_simulation))]\n",
    "            y_positions_masse1 = [positions[j][0][1] for j in range(len(t_simulation))]\n",
    "\n",
    "            x_positions_masse2 = [positions[j][1][0] for j in range(len(t_simulation))]\n",
    "            y_positions_masse2 = [positions[j][1][1] for j in range(len(t_simulation))]\n",
    "\n",
    "            \n",
    "\n",
    "            filename = f'/Users/maraludwig/Documents/Master/Deep Learning/project/images/t_m{m1/m2}_l{l1/l2}_e{e}.png'\n",
    "\n",
    "            labels.append([f't_m{np.round(m1/m2,3)}_l{np.round(l1/l2,3)}_e{np.round(e)}.png', np.round(m1,3), np.round(l1,3), np.round(e,3)])\n",
    "            \n",
    "            plt.figure(figsize=(4, 4))#,dpi=128)\n",
    "            \n",
    "            plt.scatter(x_positions_masse1,y_positions_masse1,s=0.3)\n",
    "            plt.scatter(x_positions_masse2,y_positions_masse2, s=0.3)\n",
    "\n",
    "            plt.xlabel('x')\n",
    "            plt.ylabel('y')\n",
    "\n",
    "            #plt.ylim(-(l1+l2),l1+l2)\n",
    "            #plt.xlim(-(l1+l2),l1+l2)\n",
    "\n",
    "            #plt.gca().invert_yaxis()  # Y-Achse umdrehen\n",
    "\n",
    "            #plt.show()\n",
    "\n",
    "            plt.savefig(filename)\n",
    "\n",
    "        labels_df = pd.DataFrame(labels, columns=['image_name','mass_ratio', 'length_ratio', 'energy_ratio'])\n",
    "        labels_df.to_csv(labels_csv, index=False)\n",
    "\n"
   ]
  },
  {
   "cell_type": "code",
   "execution_count": 42,
   "metadata": {},
   "outputs": [],
   "source": [
    "# Anzahl der Samples\n",
    "num_samples = 2\n",
    "\n",
    "# gauss distributed values of log(m2/m1)\n",
    "log_mass_ratio = np.random.normal(loc=0, scale=1, size=num_samples)\n",
    "log_length_ratio = np.random.normal(loc=0, scale=1, size=num_samples)\n",
    "\n",
    "\n",
    "\n",
    "m1_values = np.exp(-log_mass_ratio)\n",
    "\n",
    "l1_values = np.exp(-log_length_ratio)\n",
    "\n"
   ]
  },
  {
   "cell_type": "code",
   "execution_count": 43,
   "metadata": {},
   "outputs": [],
   "source": [
    "def sample_generator(num_samples, l_sum, v_max):\n",
    "    # gauss distributed values of log(m2/m1)\n",
    "    log_mass_ratio = np.random.normal(loc=0, scale=1, size=num_samples)\n",
    "\n",
    "    m1 = np.exp(-log_mass_ratio)\n",
    "    m2 = np.ones(num_samples)\n",
    "\n",
    "    # gauss distributed values of log(l2/l1)\n",
    "    log_length_ratio = np.random.normal(loc=0, scale=1, size=num_samples)\n",
    "\n",
    "    # aus verhälntnis und gesamtlänge l_sum die länge l1 und l2 berechnen:\n",
    "    l_ratio = np.exp(log_length_ratio)\n",
    "    l1 = l_sum / (1 + l_ratio)\n",
    "    l2 = l_sum - l1\n",
    "\n",
    "    v1 = np.random.uniform(low=0, high=v_max, size=num_samples)\n",
    "    v2 = np.random.uniform(low=0, high=v_max, size=num_samples)\n",
    "\n",
    "    # gesamtenergie (ohne potentielle energie)\n",
    "    e_ges =1/2 * m1 * v1**2 + 1/2 * m2 * v2**2\n",
    "    return m1, m2, l1, l2, v1, v2, e_ges\n",
    "\n",
    "#testsamples generieren\n",
    "m1, m2, l1, l2, v1, v2, e_ges = sample_generator(2, 1, 10)\n",
    "\n"
   ]
  },
  {
   "cell_type": "code",
   "execution_count": null,
   "metadata": {},
   "outputs": [],
   "source": []
  },
  {
   "cell_type": "code",
   "execution_count": 35,
   "metadata": {},
   "outputs": [
    {
     "data": {
      "text/plain": [
       "array([0.67585812, 0.38108946])"
      ]
     },
     "execution_count": 35,
     "metadata": {},
     "output_type": "execute_result"
    }
   ],
   "source": [
    "l2"
   ]
  },
  {
   "cell_type": "code",
   "execution_count": 46,
   "metadata": {},
   "outputs": [
    {
     "data": {
      "text/plain": [
       "array([0.70921747, 0.4592796 ])"
      ]
     },
     "execution_count": 46,
     "metadata": {},
     "output_type": "execute_result"
    }
   ],
   "source": [
    "l1"
   ]
  },
  {
   "cell_type": "code",
   "execution_count": 44,
   "metadata": {},
   "outputs": [
    {
     "data": {
      "image/png": "[encoded data removed]",
      "text/plain": [
       "<Figure size 400x400 with 1 Axes>"
      ]
     },
     "metadata": {},
     "output_type": "display_data"
    },
    {
     "data": {
      "image/png": "[encoded data removed]",
      "text/plain": [
       "<Figure size 400x400 with 1 Axes>"
      ]
     },
     "metadata": {},
     "output_type": "display_data"
    }
   ],
   "source": [
    "#m1_values = np.array([1,2])\n",
    "#l1_values = np.array([1,2])\n",
    "\n",
    "labels_csv = '/Users/maraludwig/Documents/Master/Deep Learning/project/labels.csv'\n",
    "\n",
    "trajectory_images(m1,l1,m2,l2,e_ges,v1,v2,labels_csv,t_stop=5)"
   ]
  },
  {
   "cell_type": "code",
   "execution_count": 71,
   "metadata": {},
   "outputs": [
    {
     "data": {
      "text/html": [
       "<div>\n",
       "<style scoped>\n",
       "    .dataframe tbody tr th:only-of-type {\n",
       "        vertical-align: middle;\n",
       "    }\n",
       "\n",
       "    .dataframe tbody tr th {\n",
       "        vertical-align: top;\n",
       "    }\n",
       "\n",
       "    .dataframe thead th {\n",
       "        text-align: right;\n",
       "    }\n",
       "</style>\n",
       "<table border=\"1\" class=\"dataframe\">\n",
       "  <thead>\n",
       "    <tr style=\"text-align: right;\">\n",
       "      <th></th>\n",
       "      <th>image_name</th>\n",
       "      <th>mass_ratio</th>\n",
       "      <th>length_ratio</th>\n",
       "    </tr>\n",
       "  </thead>\n",
       "  <tbody>\n",
       "    <tr>\n",
       "      <th>0</th>\n",
       "      <td>t_m1_l1.png</td>\n",
       "      <td>1</td>\n",
       "      <td>1</td>\n",
       "    </tr>\n",
       "    <tr>\n",
       "      <th>1</th>\n",
       "      <td>t_m1_l2.png</td>\n",
       "      <td>1</td>\n",
       "      <td>2</td>\n",
       "    </tr>\n",
       "    <tr>\n",
       "      <th>2</th>\n",
       "      <td>t_m2_l1.png</td>\n",
       "      <td>2</td>\n",
       "      <td>1</td>\n",
       "    </tr>\n",
       "    <tr>\n",
       "      <th>3</th>\n",
       "      <td>t_m2_l2.png</td>\n",
       "      <td>2</td>\n",
       "      <td>2</td>\n",
       "    </tr>\n",
       "  </tbody>\n",
       "</table>\n",
       "</div>"
      ],
      "text/plain": [
       "    image_name  mass_ratio  length_ratio\n",
       "0  t_m1_l1.png           1             1\n",
       "1  t_m1_l2.png           1             2\n",
       "2  t_m2_l1.png           2             1\n",
       "3  t_m2_l2.png           2             2"
      ]
     },
     "execution_count": 71,
     "metadata": {},
     "output_type": "execute_result"
    }
   ],
   "source": [
    "import os\n",
    "import pandas as pd\n",
    "from PIL import Image\n",
    "import torch\n",
    "from torch.utils.data import Dataset, DataLoader, random_split\n",
    "from torchvision import transforms\n",
    "\n",
    "# Beispiel Dataset-Klasse für deine eigenen Bilder und Labels\n",
    "class Dataset(Dataset):\n",
    "    def __init__(self, image_dir, labels_csv, transform=None):\n",
    "        \"\"\"\n",
    "        :param image_dir: Pfad zu den Bildern\n",
    "        :param labels_csv: CSV-Datei mit den Labels (Masse, Längenverhältnis)\n",
    "        :param transform: Optional: Transformationen für die Bilder\n",
    "        \"\"\"\n",
    "        self.image_dir = image_dir\n",
    "        self.labels_df = pd.read_csv(labels_csv)  # CSV mit den Labels\n",
    "        self.transform = transform\n",
    "\n",
    "    def __len__(self):\n",
    "        return len(self.labels_df)\n",
    "\n",
    "    def __getitem__(self, idx):\n",
    "        try:\n",
    "            # Holen des Bildpfads und der Labels\n",
    "            img_name = os.path.join(self.image_dir, self.labels_df.iloc[idx, 0])  # Angenommen, die Bilddatei steht in der ersten Spalte\n",
    "            image = Image.open(img_name).convert('RGB')\n",
    "\n",
    "            # Holen der Labels (z.B. Masse, Längenverhältnis)\n",
    "            mass = self.labels_df.iloc[idx, 1]  # Masse ist in der zweiten Spalte\n",
    "            length_ratio = self.labels_df.iloc[idx, 2]  # Längenverhältnis in der dritten Spalte\n",
    "\n",
    "            # Labels in ein Tensor umwandeln\n",
    "            labels = torch.tensor([mass, length_ratio], dtype=torch.float32)\n",
    "\n",
    "            # Wenn Transformationen definiert sind, anwenden\n",
    "            if self.transform:\n",
    "                image = self.transform(image)\n",
    "\n",
    "            return image, labels\n",
    "        except Exception as e:\n",
    "            print(f\"Error loading data at index {idx}: {e}\")\n",
    "            return None, None\n",
    "\n",
    "    def get_labels(self):\n",
    "        return self.labels_df\n",
    "\n",
    "# Beispielhafte Transformationen für Bilder\n",
    "\n",
    "transform = transforms.Compose([\n",
    "    transforms.Resize((400, 400)),\n",
    "    transforms.ToTensor(),\n",
    "])\n",
    "\n",
    "\n",
    "# Dataset und DataLoader initialisieren\n",
    "image_dir = '/Users/maraludwig/Documents/Master/Deep Learning/project/images'\n",
    "labels_csv = '/Users/maraludwig/Documents/Master/Deep Learning/project/labels.csv'\n",
    "dataset = Dataset(image_dir=image_dir, labels_csv=labels_csv,transform=transform)\n",
    "\n",
    "# Dataset in Trainings- und Validierungsdaten aufteilen\n",
    "train_size = int(0.8 * len(dataset))\n",
    "val_size = len(dataset) - train_size\n",
    "train_dataset, val_dataset = random_split(dataset, [train_size, val_size])\n",
    "\n",
    "# DataLoader erstellen\n",
    "train_loader = DataLoader(train_dataset, batch_size=32, shuffle=True, num_workers=0)\n",
    "val_loader = DataLoader(val_dataset, batch_size=32, shuffle=False, num_workers=0)\n",
    "\n",
    "dataset.get_labels()"
   ]
  },
  {
   "cell_type": "code",
   "execution_count": 62,
   "metadata": {},
   "outputs": [],
   "source": [
    "def train(args, model, device, train_loader, optimizer, epoch, loss_fn):\n",
    "    model.train()\n",
    "    start_time = time.time()\n",
    "    for batch_idx, (data, target) in enumerate(train_loader):\n",
    "        if data is None or target is None:\n",
    "            print(f\"Warning: Found None data at batch {batch_idx}\")\n",
    "            continue\n",
    "\n",
    "        data, target = data.to(device), target.to(device)\n",
    "\n",
    "        optimizer.zero_grad()\n",
    "        output = model(data)\n",
    "\n",
    "        loss = loss_fn(output, target)  # MSE Loss für Regression\n",
    "        loss.backward()\n",
    "        optimizer.step()\n",
    "\n",
    "        if batch_idx % args.log_interval == 0:\n",
    "            print(f'Train Epoch: {epoch} [{batch_idx * len(data)}/{len(train_loader.dataset)} ({100. * batch_idx / len(train_loader):.0f}%)]\\tLoss: {loss.item():.6f}')\n",
    "            if args.dry_run:\n",
    "                break\n",
    "    print(\"--- Epoch time: %s seconds ---\" % (time.time() - start_time))"
   ]
  },
  {
   "cell_type": "code",
   "execution_count": null,
   "metadata": {},
   "outputs": [],
   "source": [
    "import torchvision\n",
    "import torch.nn as nn\n",
    "\n",
    "# ResNet18 für Regression anpassen\n",
    "model = torchvision.models.resnet18(weights=torchvision.models.ResNet18_Weights.IMAGENET1K_V1)\n",
    "model.fc = nn.Linear(model.fc.in_features, 2)  # Zwei Ausgaben (Massenverhältnis, Längenverhältnis)\n",
    "#model = model.cuda()\n",
    "\n",
    "# Verlustfunktion für Regression\n",
    "loss_fn = torch.nn.MSELoss()"
   ]
  },
  {
   "cell_type": "code",
   "execution_count": 64,
   "metadata": {},
   "outputs": [],
   "source": [
    "import time\n",
    "\n",
    "def train(args, model, device, train_loader, optimizer, epoch, loss_fn):\n",
    "\n",
    "    model.train()\n",
    "    start_time = time.time()\n",
    "    for batch_idx, (data, target) in enumerate(train_loader):\n",
    "        \n",
    "\n",
    "        data, target = data.to(device), target.to(device)\n",
    "\n",
    "        optimizer.zero_grad()\n",
    "        output = model(data)\n",
    "\n",
    "        loss = loss_fn(output, target)  # MSE Loss für Regression\n",
    "        loss.backward()\n",
    "        optimizer.step()\n",
    "\n",
    "        if batch_idx % args.log_interval == 0:\n",
    "            print(f'Train Epoch: {epoch} [{batch_idx * len(data)}/{len(train_loader.dataset)} ({100. * batch_idx / len(train_loader):.0f}%)]\\tLoss: {loss.item():.6f}')\n",
    "            if args.dry_run:\n",
    "                break\n",
    "    print(\"--- Epoch time: %s seconds ---\" % (time.time() - start_time))"
   ]
  },
  {
   "cell_type": "code",
   "execution_count": 65,
   "metadata": {},
   "outputs": [],
   "source": [
    "def test(model, device, test_loader, loss_fn):\n",
    "    model.eval()\n",
    "    test_loss = 0\n",
    "    with torch.no_grad():\n",
    "        for data, target in test_loader:\n",
    "            data, target = data.to(device), target.to(device)\n",
    "            output = model(data)\n",
    "\n",
    "            test_loss += loss_fn(output, target).item()\n",
    "\n",
    "    test_loss /= len(test_loader)\n",
    "    print(f'\\nTest set: Average loss: {test_loss:.4f}\\n')\n",
    "\n",
    "optimizer = torch.optim.Adam(model.parameters(), lr=0.0001)"
   ]
  },
  {
   "cell_type": "code",
   "execution_count": 66,
   "metadata": {},
   "outputs": [],
   "source": [
    "import types"
   ]
  },
  {
   "cell_type": "code",
   "execution_count": 72,
   "metadata": {},
   "outputs": [
    {
     "name": "stdout",
     "output_type": "stream",
     "text": [
      "Train Epoch: 0 [0/3 (0%)]\tLoss: 0.034785\n",
      "--- Epoch time: 2.8178141117095947 seconds ---\n",
      "\n",
      "Test set: Average loss: 0.0314\n",
      "\n",
      "Train Epoch: 1 [0/3 (0%)]\tLoss: 0.020395\n",
      "--- Epoch time: 2.0823161602020264 seconds ---\n",
      "\n",
      "Test set: Average loss: 0.0253\n",
      "\n",
      "Train Epoch: 2 [0/3 (0%)]\tLoss: 0.006897\n",
      "--- Epoch time: 1.8982510566711426 seconds ---\n",
      "\n",
      "Test set: Average loss: 0.0192\n",
      "\n",
      "Train Epoch: 3 [0/3 (0%)]\tLoss: 0.000869\n",
      "--- Epoch time: 1.9094901084899902 seconds ---\n",
      "\n",
      "Test set: Average loss: 0.0144\n",
      "\n",
      "Train Epoch: 4 [0/3 (0%)]\tLoss: 0.001359\n",
      "--- Epoch time: 1.9384608268737793 seconds ---\n",
      "\n",
      "Test set: Average loss: 0.0110\n",
      "\n",
      "Train Epoch: 5 [0/3 (0%)]\tLoss: 0.004852\n",
      "--- Epoch time: 1.8985610008239746 seconds ---\n",
      "\n",
      "Test set: Average loss: 0.0086\n",
      "\n",
      "Train Epoch: 6 [0/3 (0%)]\tLoss: 0.007855\n",
      "--- Epoch time: 2.112773895263672 seconds ---\n",
      "\n",
      "Test set: Average loss: 0.0073\n",
      "\n",
      "Train Epoch: 7 [0/3 (0%)]\tLoss: 0.008300\n",
      "--- Epoch time: 2.97373104095459 seconds ---\n",
      "\n",
      "Test set: Average loss: 0.0066\n",
      "\n",
      "Train Epoch: 8 [0/3 (0%)]\tLoss: 0.006127\n",
      "--- Epoch time: 1.957637071609497 seconds ---\n",
      "\n",
      "Test set: Average loss: 0.0069\n",
      "\n",
      "Train Epoch: 9 [0/3 (0%)]\tLoss: 0.002874\n",
      "--- Epoch time: 2.7350499629974365 seconds ---\n",
      "\n",
      "Test set: Average loss: 0.0093\n",
      "\n",
      "Train Epoch: 10 [0/3 (0%)]\tLoss: 0.000583\n",
      "--- Epoch time: 4.30345892906189 seconds ---\n",
      "\n",
      "Test set: Average loss: 0.0130\n",
      "\n",
      "Train Epoch: 11 [0/3 (0%)]\tLoss: 0.000380\n",
      "--- Epoch time: 2.7681870460510254 seconds ---\n",
      "\n",
      "Test set: Average loss: 0.0163\n",
      "\n",
      "Train Epoch: 12 [0/3 (0%)]\tLoss: 0.001827\n",
      "--- Epoch time: 1.9441938400268555 seconds ---\n",
      "\n",
      "Test set: Average loss: 0.0199\n",
      "\n",
      "Train Epoch: 13 [0/3 (0%)]\tLoss: 0.003293\n",
      "--- Epoch time: 1.776994228363037 seconds ---\n",
      "\n",
      "Test set: Average loss: 0.0230\n",
      "\n",
      "Train Epoch: 14 [0/3 (0%)]\tLoss: 0.003482\n",
      "--- Epoch time: 1.7556629180908203 seconds ---\n",
      "\n",
      "Test set: Average loss: 0.0251\n",
      "\n",
      "Train Epoch: 15 [0/3 (0%)]\tLoss: 0.002407\n",
      "--- Epoch time: 2.3198070526123047 seconds ---\n",
      "\n",
      "Test set: Average loss: 0.0259\n",
      "\n",
      "Train Epoch: 16 [0/3 (0%)]\tLoss: 0.001048\n",
      "--- Epoch time: 2.44954776763916 seconds ---\n",
      "\n",
      "Test set: Average loss: 0.0238\n",
      "\n",
      "Train Epoch: 17 [0/3 (0%)]\tLoss: 0.000257\n",
      "--- Epoch time: 2.043767213821411 seconds ---\n",
      "\n",
      "Test set: Average loss: 0.0220\n",
      "\n",
      "Train Epoch: 18 [0/3 (0%)]\tLoss: 0.000234\n",
      "--- Epoch time: 1.9787662029266357 seconds ---\n",
      "\n",
      "Test set: Average loss: 0.0194\n",
      "\n",
      "Train Epoch: 19 [0/3 (0%)]\tLoss: 0.000697\n",
      "--- Epoch time: 2.141050100326538 seconds ---\n",
      "\n",
      "Test set: Average loss: 0.0181\n",
      "\n"
     ]
    }
   ],
   "source": [
    "num_epochs = 20\n",
    "args = types.SimpleNamespace(dry_run=False, log_interval=16)\n",
    "\n",
    "device = \"cpu\"\n",
    "for epoch in range(num_epochs):\n",
    "    train(args, model, device, train_loader, optimizer, epoch, loss_fn)\n",
    "    test(model, device, val_loader, loss_fn)  # Or with a test loader, if available"
   ]
  },
  {
   "cell_type": "code",
   "execution_count": 74,
   "metadata": {},
   "outputs": [
    {
     "data": {
      "image/png": "[encoded data removed]",
      "text/plain": [
       "<Figure size 640x480 with 1 Axes>"
      ]
     },
     "metadata": {},
     "output_type": "display_data"
    }
   ],
   "source": [
    "# Funktion zum Anzeigen eines Beispiels\n",
    "def show_example(model, dataset, index, device):\n",
    "    model.eval()\n",
    "    image, labels = dataset[index]\n",
    "    if image is None or labels is None:\n",
    "        print(f\"Warning: Found None data at index {index}\")\n",
    "        return\n",
    "\n",
    "    image = image.unsqueeze(0).to(device)  # Füge eine Batch-Dimension hinzu\n",
    "    with torch.no_grad():\n",
    "        output = model(image)\n",
    "\n",
    "    # Konvertiere das Bild zurück zu einem numpy-Array für die Anzeige\n",
    "    image = image.squeeze(0).cpu().numpy().transpose((1, 2, 0))\n",
    "\n",
    "    # Rescale the image to [0, 1] range for display\n",
    "    #image = (image - image.min()) / (image.max() - image.min())\n",
    "\n",
    "    # Zeige das Bild und die Vorhersagen\n",
    "    plt.imshow(image)\n",
    "    plt.title(f\"True: {labels.cpu().numpy()}, Predicted: {output.cpu().numpy()}\")\n",
    "    plt.axis('off')\n",
    "    plt.show()\n",
    "\n",
    "# Beispiel anzeigen\n",
    "show_example(model, val_dataset, index=0, device=device)"
   ]
  }
 ],
 "metadata": {
  "kernelspec": {
   "display_name": ".venv",
   "language": "python",
   "name": "python3"
  },
  "language_info": {
   "codemirror_mode": {
    "name": "ipython",
    "version": 3
   },
   "file_extension": ".py",
   "mimetype": "text/x-python",
   "name": "python",
   "nbconvert_exporter": "python",
   "pygments_lexer": "ipython3",
   "version": "3.11.5"
  }
 },
 "nbformat": 4,
 "nbformat_minor": 2
}
